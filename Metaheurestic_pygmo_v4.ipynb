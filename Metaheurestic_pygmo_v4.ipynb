{
 "cells": [
  {
   "cell_type": "code",
   "execution_count": 1,
   "metadata": {},
   "outputs": [],
   "source": [
    "from pygmo import *"
   ]
  },
  {
   "cell_type": "code",
   "execution_count": 9,
   "metadata": {},
   "outputs": [
    {
     "ename": "ModuleNotFoundError",
     "evalue": "No module named 'PyGMO'",
     "output_type": "error",
     "traceback": [
      "\u001b[1;31m---------------------------------------------------------------------------\u001b[0m",
      "\u001b[1;31mModuleNotFoundError\u001b[0m                       Traceback (most recent call last)",
      "\u001b[1;32m<ipython-input-9-e94e6844c170>\u001b[0m in \u001b[0;36m<module>\u001b[1;34m\u001b[0m\n\u001b[1;32m----> 1\u001b[1;33m \u001b[1;32mfrom\u001b[0m \u001b[0mPyGMO\u001b[0m\u001b[1;33m.\u001b[0m\u001b[0mproblem\u001b[0m \u001b[1;32mimport\u001b[0m \u001b[0mbase\u001b[0m\u001b[1;33m\u001b[0m\u001b[1;33m\u001b[0m\u001b[0m\n\u001b[0m",
      "\u001b[1;31mModuleNotFoundError\u001b[0m: No module named 'PyGMO'"
     ]
    }
   ],
   "source": [
    "from .problem import base"
   ]
  },
  {
   "cell_type": "code",
   "execution_count": null,
   "metadata": {},
   "outputs": [],
   "source": [
    "algorithms.bee_colony"
   ]
  },
  {
   "cell_type": "code",
   "execution_count": 2,
   "metadata": {},
   "outputs": [],
   "source": [
    "def algorithm_obj(algo_choice, generation_val=500):\n",
    "    if algo_choice==1:\n",
    "        algo_obj = algorithms.pso(gen = generation_val)\n",
    "    elif algo_choice==2:\n",
    "        algo_obj = algorithms.de(gen = generation_val)\n",
    "    elif algo_choice==3:\n",
    "        algo_obj = algorithms.sga(gen = generation_val)\n",
    "    elif algo_choice==4:\n",
    "        algo_obj = algorithms.bee_colony(gen = generation_val)\n",
    "    elif algo_choice==5:\n",
    "        algo_obj = algorithms.simulated_annealing(gen = generation_val)\n",
    "    else:\n",
    "        pass\n",
    "    return algo_obj"
   ]
  },
  {
   "cell_type": "code",
   "execution_count": 3,
   "metadata": {},
   "outputs": [],
   "source": [
    "def problem_calc(problem_choice, dimension_val=50):\n",
    "    if problem_choice==1:\n",
    "        problem_obj = problems.schwefel(dim = dimension_val)\n",
    "    elif problem_choice==2:\n",
    "        problem_obj = problems.rosenbrock(dim = dimension_val)\n",
    "    elif problem_choice==3:\n",
    "        problem_obj = problems.rastrigin(dim = dimension_val)\n",
    "    elif problem_choice==4:\n",
    "        problem_obj = problems.griewank(dim = dimension_val)\n",
    "    elif problem_choice==5:\n",
    "        problem_obj = problems.ackley(dim = dimension_val)\n",
    "    else:\n",
    "        pass\n",
    "    return problem_obj"
   ]
  },
  {
   "cell_type": "code",
   "execution_count": 19,
   "metadata": {},
   "outputs": [],
   "source": [
    "def get_problem_str(problem_choice):\n",
    "    if problem_choice==1:\n",
    "        return \"Shifted Schwefel Problem \"\n",
    "    elif problem_choice==2:\n",
    "        return \"Rosenbrock Problem \"\n",
    "    elif problem_choice==3:\n",
    "        return \"Rastrigin Problem \"\n",
    "    elif problem_choice==4:\n",
    "        return \"Griewank Problem \"\n",
    "    elif problem_choice==5:\n",
    "        return \"Ackley Problem \"\n",
    "    else:\n",
    "        pass\n",
    "    \n",
    "    \n",
    "def get_algorithm_str(algo_choice):\n",
    "    if algo_choice==1:\n",
    "        return \"Particle Swarm Optimisation \"\n",
    "    elif algo_choice==2:\n",
    "        return \"Differential Evolution \"\n",
    "    elif algo_choice==3:\n",
    "        return \"Simple Genetic Algorithm \"\n",
    "    elif algo_choice==4:\n",
    "        return \"Bee Colony \"\n",
    "    elif algo_choice==5:\n",
    "        return \"Simulated Annealing \"\n",
    "    else:\n",
    "        pass"
   ]
  },
  {
   "cell_type": "code",
   "execution_count": 5,
   "metadata": {},
   "outputs": [],
   "source": [
    "def optimiser_calc(i_range,isl_size,algo_choice,problem_choice,generation_val,dimension_val):\n",
    "    algo_obj = algorithm_obj(algo_choice,generation_val)\n",
    "    prob_obj = problem_calc(problem_choice,dimension_val)\n",
    "    isl_obj = island(algo = algo_obj, prob = prob_obj, size=isl_size, udi=thread_island())\n",
    "    optimiser_fitness = []\n",
    "    isl_obj_list = []\n",
    "    for i in range(i_range):\n",
    "        isl_current_obj = isl_obj.get_population()\n",
    "        isl_obj_list.append(isl_current_obj)\n",
    "        if len(optimiser_fitness)>0 and abs(optimiser_fitness[i-1]-isl_current_obj.champion_f)>0.000001:\n",
    "            optimiser_fitness.append(isl_current_obj.champion_f)\n",
    "        elif len(optimiser_fitness)==0:\n",
    "            optimiser_fitness.append(isl_current_obj.champion_f)\n",
    "        else:\n",
    "            break\n",
    "        \n",
    "        isl_obj.evolve(1)\n",
    "        isl_obj.wait()\n",
    "        \n",
    "    return (isl_obj_list,optimiser_fitness)"
   ]
  },
  {
   "cell_type": "code",
   "execution_count": 6,
   "metadata": {},
   "outputs": [],
   "source": [
    "def optimiser_summary(i_range,isl_size,algo_choice,problem_choice,generation_val,dimension_val):\n",
    "    optimiser_calc_obj = optimiser_calc(i_range,isl_size,algo_choice,problem_choice,generation_val,dimension_val)\n",
    "    problem_str = get_problem_str(problem_choice)\n",
    "    algorithm_str = get_algorithm_str(algo_choice)\n",
    "    print(get_problem_str(problem_choice),\" using \",get_algorithm_str(algo_choice))\n",
    "    print(\"It has dimension = \",dimension_val,\" took\",len(optimiser_calc_obj[1]),\" iterations with best minimization = \",optimiser_calc_obj[1][-1])\n",
    "    #print(\"champion list = \",optimiser_calc_obj[0][-1].champion_x)"
   ]
  },
  {
   "cell_type": "code",
   "execution_count": 7,
   "metadata": {},
   "outputs": [
    {
     "name": "stdout",
     "output_type": "stream",
     "text": [
      "Shifted Schwefel Problem   using  Particle Swarm Optimisation \n",
      "It has dimension =  50  took 7  iterations with best minimization =  [6647.51622755]\n",
      "Shifted Schwefel Problem   using  Differential Evolution \n",
      "It has dimension =  50  took 9  iterations with best minimization =  [1.42302088e-06]\n",
      "Shifted Schwefel Problem   using  Simple Genetic Algorithm \n",
      "It has dimension =  50  took 20  iterations with best minimization =  [1.36114025]\n"
     ]
    }
   ],
   "source": [
    "optimiser_summary(20,20,1,1,500,50)\n",
    "optimiser_summary(20,20,2,1,500,50)\n",
    "optimiser_summary(20,20,3,1,500,50)"
   ]
  },
  {
   "cell_type": "code",
   "execution_count": 8,
   "metadata": {},
   "outputs": [
    {
     "name": "stdout",
     "output_type": "stream",
     "text": [
      "Rosenbrock Problem   using  Particle Swarm Optimisation \n",
      "It has dimension =  50  took 60  iterations with best minimization =  [0.00241925]\n",
      "Rosenbrock Problem   using  Differential Evolution \n",
      "It has dimension =  50  took 24  iterations with best minimization =  [1.03693151e-06]\n",
      "Rosenbrock Problem   using  Simple Genetic Algorithm \n",
      "It has dimension =  50  took 30  iterations with best minimization =  [154.58706254]\n"
     ]
    }
   ],
   "source": [
    "optimiser_summary(60,20,1,2,500,50)\n",
    "optimiser_summary(30,20,2,2,500,50)\n",
    "optimiser_summary(30,20,3,2,500,50)"
   ]
  },
  {
   "cell_type": "code",
   "execution_count": 10,
   "metadata": {},
   "outputs": [
    {
     "name": "stdout",
     "output_type": "stream",
     "text": [
      "Rosenbrock Problem   using  Particle Swarm Optimisation \n",
      "It has dimension =  50  took 60  iterations with best minimization =  [73.74497336]\n",
      "Rosenbrock Problem   using  Differential Evolution \n",
      "It has dimension =  50  took 25  iterations with best minimization =  [1.01508892e-06]\n",
      "Rosenbrock Problem   using  Simple Genetic Algorithm \n",
      "It has dimension =  50  took 26  iterations with best minimization =  [89.1137677]\n"
     ]
    }
   ],
   "source": [
    "optimiser_summary(60,20,1,2,500,50)\n",
    "optimiser_summary(30,20,2,2,500,50)\n",
    "optimiser_summary(30,20,3,2,500,50)"
   ]
  },
  {
   "cell_type": "code",
   "execution_count": 11,
   "metadata": {},
   "outputs": [
    {
     "name": "stdout",
     "output_type": "stream",
     "text": [
      "Rastrigin Problem   using  Particle Swarm Optimisation \n",
      "It has dimension =  50  took 9  iterations with best minimization =  [237.93615144]\n",
      "Rastrigin Problem   using  Differential Evolution \n",
      "It has dimension =  50  took 12  iterations with best minimization =  [1.63773797e-06]\n",
      "Rastrigin Problem   using  Simple Genetic Algorithm \n",
      "It has dimension =  50  took 25  iterations with best minimization =  [0.03813649]\n"
     ]
    }
   ],
   "source": [
    "optimiser_summary(20,20,1,3,500,50)\n",
    "optimiser_summary(20,20,2,3,500,50)\n",
    "optimiser_summary(25,30,3,3,500,50)"
   ]
  },
  {
   "cell_type": "code",
   "execution_count": 12,
   "metadata": {},
   "outputs": [
    {
     "name": "stdout",
     "output_type": "stream",
     "text": [
      "Griewank Problem   using  Particle Swarm Optimisation \n",
      "It has dimension =  50  took 6  iterations with best minimization =  [0.01722634]\n",
      "Griewank Problem   using  Differential Evolution \n",
      "It has dimension =  50  took 8  iterations with best minimization =  [1.58135269e-06]\n",
      "Griewank Problem   using  Simple Genetic Algorithm \n",
      "It has dimension =  50  took 25  iterations with best minimization =  [0.09345691]\n"
     ]
    }
   ],
   "source": [
    "optimiser_summary(20,20,1,4,500,50)\n",
    "optimiser_summary(20,20,2,4,500,50)\n",
    "optimiser_summary(25,20,3,4,500,50)"
   ]
  },
  {
   "cell_type": "code",
   "execution_count": 13,
   "metadata": {},
   "outputs": [
    {
     "name": "stdout",
     "output_type": "stream",
     "text": [
      "Ackley Problem   using  Particle Swarm Optimisation \n",
      "It has dimension =  50  took 15  iterations with best minimization =  [3.28911917e-07]\n",
      "Ackley Problem   using  Differential Evolution \n",
      "It has dimension =  50  took 9  iterations with best minimization =  [2.41373673e-06]\n",
      "Ackley Problem   using  Simple Genetic Algorithm \n",
      "It has dimension =  50  took 20  iterations with best minimization =  [0.10257928]\n"
     ]
    }
   ],
   "source": [
    "optimiser_summary(20,20,1,5,500,50)\n",
    "optimiser_summary(20,20,2,5,500,50)\n",
    "optimiser_summary(20,20,3,5,500,50)"
   ]
  },
  {
   "cell_type": "code",
   "execution_count": 15,
   "metadata": {},
   "outputs": [
    {
     "name": "stdout",
     "output_type": "stream",
     "text": [
      "Shifted Schwefel Problem   using  Particle Swarm Optimisation \n",
      "It has dimension =  500  took 60  iterations with best minimization =  [66689.86384553]\n",
      "Shifted Schwefel Problem   using  Differential Evolution \n",
      "It has dimension =  500  took 30  iterations with best minimization =  [12913.21566559]\n",
      "Shifted Schwefel Problem   using  Simple Genetic Algorithm \n",
      "It has dimension =  500  took 30  iterations with best minimization =  [53526.57635282]\n"
     ]
    }
   ],
   "source": [
    "optimiser_summary(1000,50,1,1,500,500)\n",
    "optimiser_summary(1000,50,2,1,500,500)\n",
    "optimiser_summary(1000,50,3,1,500,500)"
   ]
  },
  {
   "cell_type": "code",
   "execution_count": 16,
   "metadata": {},
   "outputs": [
    {
     "name": "stdout",
     "output_type": "stream",
     "text": [
      "Shifted Schwefel Problem   using  Particle Swarm Optimisation \n",
      "It has dimension =  500  took 829  iterations with best minimization =  [44368.97009645]\n"
     ]
    }
   ],
   "source": [
    "optimiser_summary(1000,50,1,1,500,500)"
   ]
  },
  {
   "cell_type": "code",
   "execution_count": 18,
   "metadata": {},
   "outputs": [
    {
     "name": "stdout",
     "output_type": "stream",
     "text": [
      "Shifted Schwefel Problem   using  Differential Evolution \n",
      "It has dimension =  500  took 83  iterations with best minimization =  [3.20174149e-06]\n"
     ]
    }
   ],
   "source": [
    "optimiser_summary(100,50,2,1,500,500)"
   ]
  },
  {
   "cell_type": "code",
   "execution_count": 22,
   "metadata": {},
   "outputs": [
    {
     "name": "stdout",
     "output_type": "stream",
     "text": [
      "Shifted Schwefel Problem   using  Simple Genetic Algorithm \n",
      "It has dimension =  500  took 10  iterations with best minimization =  [85280.70776203]\n"
     ]
    }
   ],
   "source": [
    "optimiser_summary(10,10,3,1,500,500)"
   ]
  },
  {
   "cell_type": "code",
   "execution_count": 23,
   "metadata": {},
   "outputs": [
    {
     "name": "stdout",
     "output_type": "stream",
     "text": [
      "Shifted Schwefel Problem   using  Simple Genetic Algorithm \n",
      "It has dimension =  500  took 20  iterations with best minimization =  [77104.7429937]\n"
     ]
    }
   ],
   "source": [
    "optimiser_summary(20,10,3,1,500,500)"
   ]
  },
  {
   "cell_type": "code",
   "execution_count": 24,
   "metadata": {},
   "outputs": [
    {
     "name": "stdout",
     "output_type": "stream",
     "text": [
      "Shifted Schwefel Problem   using  Simple Genetic Algorithm \n",
      "It has dimension =  500  took 20  iterations with best minimization =  [67838.46632826]\n"
     ]
    }
   ],
   "source": [
    "optimiser_summary(20,20,3,1,500,500)"
   ]
  },
  {
   "cell_type": "code",
   "execution_count": null,
   "metadata": {},
   "outputs": [],
   "source": [
    "optimiser_summary(20,20,3,1,500,500)"
   ]
  },
  {
   "cell_type": "code",
   "execution_count": null,
   "metadata": {},
   "outputs": [],
   "source": [
    "optimiser_summary(60,20,1,2,500,500)\n",
    "optimiser_summary(30,20,2,2,500,500)\n",
    "optimiser_summary(30,20,3,2,500,500)"
   ]
  },
  {
   "cell_type": "code",
   "execution_count": null,
   "metadata": {},
   "outputs": [],
   "source": [
    "optimiser_summary(60,20,1,3,500,500)\n",
    "optimiser_summary(30,20,2,3,500,500)\n",
    "optimiser_summary(30,20,3,3,500,500)"
   ]
  },
  {
   "cell_type": "code",
   "execution_count": null,
   "metadata": {},
   "outputs": [],
   "source": [
    "optimiser_summary(60,20,1,4,500,500)\n",
    "optimiser_summary(30,20,2,4,500,500)\n",
    "optimiser_summary(30,20,3,4,500,500)"
   ]
  },
  {
   "cell_type": "code",
   "execution_count": null,
   "metadata": {},
   "outputs": [],
   "source": [
    "optimiser_summary(60,20,1,5,500,500)\n",
    "optimiser_summary(30,20,2,5,500,500)\n",
    "optimiser_summary(30,20,3,5,500,500)"
   ]
  }
 ],
 "metadata": {
  "kernelspec": {
   "display_name": "Python 3",
   "language": "python",
   "name": "python3"
  },
  "language_info": {
   "codemirror_mode": {
    "name": "ipython",
    "version": 3
   },
   "file_extension": ".py",
   "mimetype": "text/x-python",
   "name": "python",
   "nbconvert_exporter": "python",
   "pygments_lexer": "ipython3",
   "version": "3.7.3"
  }
 },
 "nbformat": 4,
 "nbformat_minor": 4
}
